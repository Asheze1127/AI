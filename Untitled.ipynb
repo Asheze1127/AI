{
 "cells": [
  {
   "cell_type": "code",
   "execution_count": null,
   "id": "3a74f87e-379c-4870-98e1-10d71cb03a6b",
   "metadata": {},
   "outputs": [],
   "source": [
    "import gradio as gr\n",
    "import cv2\n",
    "from PIL import Image\n",
    "from inference_sdk import InferenceHTTPClient\n",
    "\n",
    "def visualize_results(img_path):\n",
    "    # 画像を読み込む\n",
    "    img = cv2.imread(img_path)\n",
    "    #画像が入力されていない場合\n",
    "    if img is None:\n",
    "      return \"画像を入力してください\",None\n",
    "    # OpenCV (BGR) から RGB に変換\n",
    "    img_rgb = cv2.cvtColor(img, cv2.COLOR_BGR2RGB)\n",
    "    # ネジの検出を実行\n",
    "    model = InferenceHTTPClient(\n",
    "        api_url=\"https://detect.roboflow.com\",\n",
    "        api_key=\"4JezmxU9ygERZA4O0hCV\"\n",
    "    )\n",
    "    # 推論を実行\n",
    "    result = model.infer(img_path, model_id=\"screw-detector-qk4wu/2\")\n",
    "    detections = result['predictions']  # 検出された物体\n",
    "\n",
    "    # ネジの本数をカウント\n",
    "    screw_count = len(detections)\n",
    "    # バウンディングボックスの描画\n",
    "    for detection in detections:\n",
    "        x1 = detection['x'] - detection['width'] / 2\n",
    "        y1 = detection['y'] - detection['height'] / 2\n",
    "        x2 = detection['x'] + detection['width'] / 2\n",
    "        y2 = detection['y'] + detection['height'] / 2\n",
    "        # バウンディングボックスを描画\n",
    "        cv2.rectangle(img_rgb, (int(x1), int(y1)), (int(x2), int(y2)), (0, 255, 0), 2)\n",
    "\n",
    "        # ラベルを描画\n",
    "        label = f\"{detection['confidence']:.2f}\"\n",
    "        cv2.putText(img_rgb, label, (int(x1), int(y1) - 10), cv2.FONT_HERSHEY_SIMPLEX, 0.5, (0, 255, 0), 2)\n",
    "\n",
    "    # 結果の画像とネジの本数を返す\n",
    "    return f\"検出されたネジの本数: {screw_count}本\", img_rgb\n",
    "\n",
    "\n",
    "# Gradioインターフェースを定義\n",
    "interface = gr.Interface(\n",
    "    fn=visualize_results,\n",
    "    inputs=[gr.Image(type=\"filepath\")],\n",
    "    outputs=[gr.Textbox(), gr.Image()],\n",
    "    live=True,\n",
    "    title=\"Screw Counter\"\n",
    ")\n",
    "\n",
    "# インターフェースを起動\n",
    "interface.launch(share=True, debug=True)"
   ]
  },
  {
   "cell_type": "code",
   "execution_count": null,
   "id": "9a44acb3-774a-4e46-a4c3-5c8f856cd586",
   "metadata": {},
   "outputs": [],
   "source": []
  }
 ],
 "metadata": {
  "kernelspec": {
   "display_name": "Python 3 (ipykernel)",
   "language": "python",
   "name": "python3"
  },
  "language_info": {
   "codemirror_mode": {
    "name": "ipython",
    "version": 3
   },
   "file_extension": ".py",
   "mimetype": "text/x-python",
   "name": "python",
   "nbconvert_exporter": "python",
   "pygments_lexer": "ipython3",
   "version": "3.12.8"
  }
 },
 "nbformat": 4,
 "nbformat_minor": 5
}
